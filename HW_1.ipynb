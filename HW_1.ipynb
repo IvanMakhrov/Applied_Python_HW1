{
 "cells": [
  {
   "cell_type": "markdown",
   "metadata": {
    "id": "bVbHQbDDjw9i"
   },
   "source": [
    "## ДЗ 1 (ОБЯЗАТЕЛЬНОЕ): Анализ температурных данных и мониторинг текущей температуры через OpenWeatherMap API\n",
    "\n",
    "**Описание задания:**  \n",
    "Вы аналитик в компании, занимающейся изучением климатических изменений и мониторингом температур в разных городах. Вам нужно провести анализ исторических данных о температуре для выявления сезонных закономерностей и аномалий. Также необходимо подключить API OpenWeatherMap для получения текущей температуры в выбранных городах и сравнить её с историческими данными.\n",
    "\n",
    "\n",
    "### Цели задания:\n",
    "1. Провести **анализ временных рядов**, включая:\n",
    "   - Вычисление скользящего среднего и стандартного отклонения для сглаживания температурных колебаний.\n",
    "   - Определение аномалий на основе отклонений температуры от $ \\text{скользящее среднее} \\pm 2\\sigma $.\n",
    "   - Построение долгосрочных трендов изменения температуры.\n",
    "   - Любые дополнительные исследования будут вам в плюс.\n",
    "\n",
    "2. Осуществить **мониторинг текущей температуры**:\n",
    "   - Получить текущую температуру через OpenWeatherMap API.\n",
    "   - Сравнить её с историческим нормальным диапазоном для текущего сезона.\n",
    "\n",
    "3. Разработать **интерактивное приложение**:\n",
    "   - Дать пользователю возможность выбрать город.\n",
    "   - Отобразить результаты анализа температур, включая временные ряды, сезонные профили и аномалии.\n",
    "   - Провести анализ текущей температуры в контексте исторических данных.\n",
    "\n",
    "\n",
    "### Описание данных\n",
    "Исторические данные о температуре содержатся в файле `temperature_data.csv`, включают:\n",
    "  - `city`: Название города.\n",
    "  - `timestamp`: Дата (с шагом в 1 день).\n",
    "  - `temperature`: Среднесуточная температура (в °C).\n",
    "  - `season`: Сезон года (зима, весна, лето, осень).\n",
    "\n",
    "Код для генерации файла вы найдете ниже.\n",
    "\n",
    "### Этапы выполнения\n",
    "\n",
    "1. **Анализ исторических данных**:\n",
    "   - Вычислить **скользящее среднее** температуры с окном в 30 дней для сглаживания краткосрочных колебаний.\n",
    "   - Рассчитать среднюю температуру и стандартное отклонение для каждого сезона в каждом городе.\n",
    "   - Выявить аномалии, где температура выходит за пределы $ \\text{среднее} \\pm 2\\sigma $.\n",
    "   - Попробуйте распараллелить проведение этого анализа. Сравните скорость выполнения анализа с распараллеливанием и без него.\n",
    "\n",
    "2. **Мониторинг текущей температуры**:\n",
    "   - Подключить OpenWeatherMap API для получения текущей температуры города. Для получения API Key (бесплатно) надо зарегистрироваться на сайте. Обратите внимание, что API Key может активироваться только через 2-3 часа, это нормально. Посему получите ключ заранее.\n",
    "   - Получить текущую температуру для выбранного города через OpenWeatherMap API.\n",
    "   - Определить, является ли текущая температура нормальной, исходя из исторических данных для текущего сезона.\n",
    "   - Данные на самом деле не совсем реальные (сюрпрайз). Поэтому на момент эксперимента погода в Берлине, Каире и Дубае была в рамках нормы, а в Пекине и Москве аномальная. Протестируйте свое решение для разных городов.\n",
    "   - Попробуйте для получения текущей температуры использовать синхронные и асинхронные методы. Что здесь лучше использовать?\n",
    "\n",
    "3. **Создание приложения на Streamlit**:\n",
    "   - Добавить интерфейс для загрузки файла с историческими данными.\n",
    "   - Добавить интерфейс для выбора города (из выпадающего списка).\n",
    "   - Добавить форму для ввода API-ключа OpenWeatherMap. Когда он не введен, данные для текущей погоды не показываются. Если ключ некорректный, выведите на экран ошибку (должно приходить `{\"cod\":401, \"message\": \"Invalid API key. Please see https://openweathermap.org/faq#error401 for more info.\"}`).\n",
    "   - Отобразить:\n",
    "     - Описательную статистику по историческим данным для города, можно добавить визуализации.\n",
    "     - Временной ряд температур с выделением аномалий (например, точками другого цвета).\n",
    "     - Сезонные профили с указанием среднего и стандартного отклонения.\n",
    "   - Вывести текущую температуру через API и указать, нормальна ли она для сезона.\n",
    "\n",
    "### Критерии оценивания\n",
    "\n",
    "- Корректное проведение анализа данных – 1 балл.\n",
    "- Исследование распараллеливания анализа – 1 балл.\n",
    "- Корректный поиск аномалий – 1 балл.\n",
    "- Подключение к API и корректность выполнения запроса – 1 балл.\n",
    "- Проведение эксперимента с синхронным и асинхронным способом запроса к API – 1 балл.\n",
    "- Создание интерфейса приложения streamlit в соответствии с описанием – 3 балла.\n",
    "- Корректное отображение графиков и статистик, а также сезонных профилей – 1 балл.\n",
    "- Корректный вывод текущей температуры в выбранном городе и проведение проверки на ее аномальность – 1 балл.\n",
    "- Любая дополнительная функциональность приветствуется и оценивается бонусными баллами (не более 2 в сумме) на усмотрение проверяющего.\n",
    "\n",
    "### Формат сдачи домашнего задания\n",
    "\n",
    "Решение нужно развернуть в Streamlit Cloud (бесплатно)\n",
    "\n",
    "*   Создаем новый репозиторий на GitHub.  \n",
    "*   Загружаем проект.\n",
    "*   Создаем аккаунт в [Streamlit Cloud](https://streamlit.io/cloud).\n",
    "*   Авторизуемся в Streamlit Cloud.\n",
    "*   Создаем новое приложение в Streamlit Cloud и подключаем GitHub-репозиторий.\n",
    "*   Deploy!\n",
    "\n",
    "Сдать в форму необходимо:\n",
    "1. Ссылку на развернутое в Streamlit Cloud приложение.\n",
    "2. Ссылку на код. Все выводы про, например, использование параллельности/асинхронности опишите в комментариях.\n",
    "\n",
    "Не забудьте удалить ключ API и иную чувствительную информацию.\n",
    "\n",
    "### Полезные ссылки\n",
    "*   [Оформление задачи Титаник на Streamlit](https://github.com/evgpat/streamlit_demo)\n",
    "*   [Документация Streamlit](https://docs.streamlit.io/)\n",
    "*   [Блог о Streamlit](https://blog.streamlit.io/)"
   ]
  },
  {
   "cell_type": "code",
   "execution_count": 1,
   "metadata": {
    "id": "SsrwTMhRj6dK"
   },
   "outputs": [],
   "source": [
    "import pandas as pd\n",
    "import numpy as np\n",
    "\n",
    "# Реальные средние температуры (примерные данные) для городов по сезонам\n",
    "seasonal_temperatures = {\n",
    "    \"New York\": {\"winter\": 0, \"spring\": 10, \"summer\": 25, \"autumn\": 15},\n",
    "    \"London\": {\"winter\": 5, \"spring\": 11, \"summer\": 18, \"autumn\": 12},\n",
    "    \"Paris\": {\"winter\": 4, \"spring\": 12, \"summer\": 20, \"autumn\": 13},\n",
    "    \"Tokyo\": {\"winter\": 6, \"spring\": 15, \"summer\": 27, \"autumn\": 18},\n",
    "    \"Moscow\": {\"winter\": -10, \"spring\": 5, \"summer\": 18, \"autumn\": 8},\n",
    "    \"Sydney\": {\"winter\": 12, \"spring\": 18, \"summer\": 25, \"autumn\": 20},\n",
    "    \"Berlin\": {\"winter\": 0, \"spring\": 10, \"summer\": 20, \"autumn\": 11},\n",
    "    \"Beijing\": {\"winter\": -2, \"spring\": 13, \"summer\": 27, \"autumn\": 16},\n",
    "    \"Rio de Janeiro\": {\"winter\": 20, \"spring\": 25, \"summer\": 30, \"autumn\": 25},\n",
    "    \"Dubai\": {\"winter\": 20, \"spring\": 30, \"summer\": 40, \"autumn\": 30},\n",
    "    \"Los Angeles\": {\"winter\": 15, \"spring\": 18, \"summer\": 25, \"autumn\": 20},\n",
    "    \"Singapore\": {\"winter\": 27, \"spring\": 28, \"summer\": 28, \"autumn\": 27},\n",
    "    \"Mumbai\": {\"winter\": 25, \"spring\": 30, \"summer\": 35, \"autumn\": 30},\n",
    "    \"Cairo\": {\"winter\": 15, \"spring\": 25, \"summer\": 35, \"autumn\": 25},\n",
    "    \"Mexico City\": {\"winter\": 12, \"spring\": 18, \"summer\": 20, \"autumn\": 15},\n",
    "}\n",
    "\n",
    "# Сопоставление месяцев с сезонами\n",
    "month_to_season = {12: \"winter\", 1: \"winter\", 2: \"winter\",\n",
    "                   3: \"spring\", 4: \"spring\", 5: \"spring\",\n",
    "                   6: \"summer\", 7: \"summer\", 8: \"summer\",\n",
    "                   9: \"autumn\", 10: \"autumn\", 11: \"autumn\"}\n",
    "\n",
    "# Генерация данных о температуре\n",
    "def generate_realistic_temperature_data(cities, num_years=10):\n",
    "    dates = pd.date_range(start=\"2010-01-01\", periods=365 * num_years, freq=\"D\")\n",
    "    data = []\n",
    "\n",
    "    for city in cities:\n",
    "        for date in dates:\n",
    "            season = month_to_season[date.month]\n",
    "            mean_temp = seasonal_temperatures[city][season]\n",
    "            # Добавляем случайное отклонение\n",
    "            temperature = np.random.normal(loc=mean_temp, scale=5)\n",
    "            data.append({\"city\": city, \"timestamp\": date, \"temperature\": temperature})\n",
    "\n",
    "    df = pd.DataFrame(data)\n",
    "    df['season'] = df['timestamp'].dt.month.map(lambda x: month_to_season[x])\n",
    "    return df\n",
    "\n",
    "# Генерация данных\n",
    "data = generate_realistic_temperature_data(list(seasonal_temperatures.keys()))\n",
    "data.to_csv('temperature_data.csv', index=False)\n"
   ]
  },
  {
   "cell_type": "markdown",
   "metadata": {
    "id": "aF2dhXJQmmeY"
   },
   "source": [
    "## Часть 1: Анализ исторических данных"
   ]
  },
  {
   "cell_type": "code",
   "execution_count": 22,
   "metadata": {
    "id": "Gqb3GB_-f6it"
   },
   "outputs": [],
   "source": [
    "import pandas as pd\n",
    "import matplotlib.pyplot as plt\n",
    "import time\n",
    "from multiprocessing import Pool"
   ]
  },
  {
   "cell_type": "code",
   "execution_count": 3,
   "metadata": {
    "id": "DK1nW641f6iu"
   },
   "outputs": [],
   "source": [
    "def time_count(func):\n",
    "    def wrapper(*args, **kwargs):\n",
    "        start = time.time()\n",
    "        result = func(*args, **kwargs)\n",
    "        end = time.time()\n",
    "        performance_time = end - start\n",
    "        print(f'Performance time: {performance_time:.2f} seconds')\n",
    "        return result\n",
    "    return wrapper"
   ]
  },
  {
   "cell_type": "code",
   "execution_count": 64,
   "metadata": {
    "id": "FKPFWqgzf6iu"
   },
   "outputs": [],
   "source": [
    "df = pd.read_csv('temperature_data.csv')"
   ]
  },
  {
   "cell_type": "code",
   "execution_count": 87,
   "metadata": {
    "id": "u9E6jyTkf6iu"
   },
   "outputs": [],
   "source": [
    "@time_count\n",
    "def data_analysis(df):\n",
    "    df = df.sort_values(['city', 'timestamp'])\n",
    "    df['30_day_avg'] = df.groupby('city')['temperature'].transform(lambda x: x.rolling(window=30, min_periods=1).mean())\n",
    "    df['avg_temp_by_season_city'] = df.groupby(['season', 'city'])['temperature'].transform('mean')\n",
    "    df['std_temp_by_season_city'] = df.groupby(['season', 'city'])['temperature'].transform('std')\n",
    "    df['anomaly'] = ((df['temperature'] < (df['avg_temp_by_season_city'] - 2 * df['std_temp_by_season_city'])) |\n",
    "                     (df['temperature'] > (df['avg_temp_by_season_city'] + 2 * df['std_temp_by_season_city']))).astype(int)\n",
    "    return df"
   ]
  },
  {
   "cell_type": "code",
   "execution_count": 28,
   "metadata": {
    "id": "CJUo5-2Vf6iv"
   },
   "outputs": [],
   "source": [
    "@time_count\n",
    "def data_analysis_parallel(df, n):\n",
    "    cities = df['city'].unique()\n",
    "    k, r = divmod(len(df), n)\n",
    "\n",
    "    dfs = [df[i * k + min(i, r):(i + 1) * k + min(i + 1, r)] for i in range(n)]\n",
    "\n",
    "    with Pool() as pool:\n",
    "        results = pool.map(data_analysis, dfs)\n",
    "\n",
    "    return pd.concat(results)"
   ]
  },
  {
   "cell_type": "code",
   "execution_count": 43,
   "metadata": {
    "colab": {
     "base_uri": "https://localhost:8080/"
    },
    "id": "aTtIFgiIf6iv",
    "outputId": "03657305-e7f6-4708-c98a-0f97e6b19f6f"
   },
   "outputs": [
    {
     "name": "stdout",
     "output_type": "stream",
     "text": [
      "Performance time: 0.05 seconds\n"
     ]
    }
   ],
   "source": [
    "result = data_analysis(df)"
   ]
  },
  {
   "cell_type": "code",
   "execution_count": 46,
   "metadata": {
    "colab": {
     "base_uri": "https://localhost:8080/"
    },
    "id": "OMnZ8MWrf6iw",
    "outputId": "7a719ad9-d895-4a95-b037-1316dcffc0a0"
   },
   "outputs": [
    {
     "name": "stdout",
     "output_type": "stream",
     "text": [
      "Performance time: 0.21 seconds\n"
     ]
    }
   ],
   "source": [
    "result_parallel = data_analysis_parallel(df, 4)"
   ]
  },
  {
   "cell_type": "markdown",
   "metadata": {},
   "source": [
    "Время выполнения с помощью multiprocessing выросло, а не сократилось, так как датасет слишком маленький для того, чтобы получить эффект от обработки данных на нескольких ядрах<br>\n",
    "Вместо этого, мы тратим время на создание процессов"
   ]
  },
  {
   "cell_type": "markdown",
   "metadata": {
    "id": "y0yFNApgnML2"
   },
   "source": [
    "## Часть 2: Мониторинг текущей температуры"
   ]
  },
  {
   "cell_type": "code",
   "execution_count": 109,
   "metadata": {
    "id": "fJhZiL6Sn1ZT"
   },
   "outputs": [],
   "source": [
    "import requests\n",
    "from datetime import datetime\n",
    "import asyncio\n",
    "import aiohttp"
   ]
  },
  {
   "cell_type": "code",
   "execution_count": 48,
   "metadata": {
    "id": "imjDOkObnTAc"
   },
   "outputs": [],
   "source": [
    "key = ''"
   ]
  },
  {
   "cell_type": "code",
   "execution_count": 54,
   "metadata": {
    "colab": {
     "base_uri": "https://localhost:8080/"
    },
    "id": "no3S8yoEnfOb",
    "outputId": "24a98c7e-2398-45ae-f6d8-91eddf8a5e8b"
   },
   "outputs": [
    {
     "data": {
      "text/plain": [
       "{'coord': {'lon': 37.6156, 'lat': 55.7522},\n",
       " 'weather': [{'id': 802,\n",
       "   'main': 'Clouds',\n",
       "   'description': 'переменная облачность',\n",
       "   'icon': '03n'}],\n",
       " 'base': 'stations',\n",
       " 'main': {'temp': -8.49,\n",
       "  'feels_like': -15.49,\n",
       "  'temp_min': -8.76,\n",
       "  'temp_max': -8.12,\n",
       "  'pressure': 1019,\n",
       "  'humidity': 61,\n",
       "  'sea_level': 1019,\n",
       "  'grnd_level': 998},\n",
       " 'visibility': 10000,\n",
       " 'wind': {'speed': 5.81, 'deg': 307, 'gust': 13.56},\n",
       " 'clouds': {'all': 26},\n",
       " 'dt': 1734119878,\n",
       " 'sys': {'type': 2,\n",
       "  'id': 2095214,\n",
       "  'country': 'RU',\n",
       "  'sunrise': 1734069094,\n",
       "  'sunset': 1734094576},\n",
       " 'timezone': 10800,\n",
       " 'id': 524901,\n",
       " 'name': 'Москва',\n",
       " 'cod': 200}"
      ]
     },
     "execution_count": 54,
     "metadata": {},
     "output_type": "execute_result"
    }
   ],
   "source": [
    "city_name = 'Moscow'\n",
    "response = requests.get(f'https://api.openweathermap.org/data/2.5/weather?q={city_name}&appid={key}&units=metric&lang=ru')\n",
    "response.json()"
   ]
  },
  {
   "cell_type": "code",
   "execution_count": 90,
   "metadata": {
    "colab": {
     "base_uri": "https://localhost:8080/"
    },
    "id": "FrD_jqkVo5-q",
    "outputId": "c77c7250-01a8-4ea3-918a-bae4763d6b4c"
   },
   "outputs": [
    {
     "name": "stdout",
     "output_type": "stream",
     "text": [
      "Performance time: 0.05 seconds\n"
     ]
    }
   ],
   "source": [
    "df_interval = data_analysis(df)\n",
    "df_interval['left_interval'] = (df_interval['avg_temp_by_season_city'] - 2 * df_interval['std_temp_by_season_city'])\n",
    "df_interval['right_interval'] = (df_interval['avg_temp_by_season_city'] + 2 * df_interval['std_temp_by_season_city'])\n",
    "df_interval = df_interval[['city', 'season', 'left_interval', 'right_interval']].drop_duplicates().reset_index(drop=True)"
   ]
  },
  {
   "cell_type": "code",
   "execution_count": 119,
   "metadata": {
    "id": "40IHsnYyumDs"
   },
   "outputs": [],
   "source": [
    "def get_season():\n",
    "  current_month = datetime.now().month\n",
    "\n",
    "  seasons = {\n",
    "      (12, 1, 2): 'winter',\n",
    "      (3, 4, 5): 'spring',\n",
    "      (6, 7, 8): 'summer',\n",
    "      (9, 10, 11): 'autumn'\n",
    "  }\n",
    "\n",
    "  return [s for months, s in seasons.items() if current_month in months][0]\n",
    "\n",
    "def is_anomaly(city):\n",
    "  season = get_season()\n",
    "  left_interval = df_interval.where((df_interval['season'] == season) & (df_interval['city'] == city)).dropna()['left_interval'].iloc[0]\n",
    "  right_interval = df_interval.where((df_interval['season'] == season) & (df_interval['city'] == city)).dropna()['right_interval'].iloc[0]\n",
    "  response = requests.get(f'https://api.openweathermap.org/data/2.5/weather?q={city}&appid={key}&units=metric&lang=ru').json()\n",
    "  temperature = response['main']['temp']\n",
    "  return (temperature <= left_interval or temperature >= right_interval, left_interval, right_interval, temperature)\n",
    "\n",
    "@time_count\n",
    "def main():\n",
    "  for city in df['city'].unique():\n",
    "    anomaly = is_anomaly(city)\n",
    "    text = 'found' if anomaly[0] else 'not found'\n",
    "    print(f'{city}: anomaly {text}, interval from {anomaly[1]:.2f} to {anomaly[2]:.2f}, temp {anomaly[3]:.2f}')\n"
   ]
  },
  {
   "cell_type": "code",
   "execution_count": 123,
   "metadata": {
    "colab": {
     "base_uri": "https://localhost:8080/"
    },
    "id": "-gi7xIvj4ZXL",
    "outputId": "7be374aa-e925-4f26-951c-d45640235ba6"
   },
   "outputs": [
    {
     "name": "stdout",
     "output_type": "stream",
     "text": [
      "Moscow: anomaly not found, interval from -20.19 to 0.11, temp -9.07\n"
     ]
    }
   ],
   "source": [
    "city = 'Moscow'\n",
    "anomaly = is_anomaly(city)\n",
    "text = 'found' if anomaly[0] else 'not found'\n",
    "print(f'{city}: anomaly {text}, interval from {anomaly[1]:.2f} to {anomaly[2]:.2f}, temp {anomaly[3]:.2f}')"
   ]
  },
  {
   "cell_type": "code",
   "execution_count": 124,
   "metadata": {
    "colab": {
     "base_uri": "https://localhost:8080/"
    },
    "id": "QIpzfyzK4h1M",
    "outputId": "bd226920-bfc4-4f48-b177-db3d8d69cbfc"
   },
   "outputs": [
    {
     "name": "stdout",
     "output_type": "stream",
     "text": [
      "New York: anomaly not found, interval from -9.88 to 10.04, temp 0.37\n",
      "London: anomaly not found, interval from -5.00 to 15.04, temp 3.89\n",
      "Paris: anomaly not found, interval from -5.63 to 13.81, temp 0.90\n",
      "Tokyo: anomaly not found, interval from -3.95 to 15.73, temp 5.09\n",
      "Moscow: anomaly not found, interval from -20.19 to 0.11, temp -9.07\n",
      "Sydney: anomaly found, interval from 2.48 to 21.66, temp 22.37\n",
      "Berlin: anomaly not found, interval from -10.29 to 10.12, temp 1.25\n",
      "Beijing: anomaly not found, interval from -12.05 to 7.94, temp -6.06\n",
      "Rio de Janeiro: anomaly not found, interval from 9.27 to 30.40, temp 25.53\n",
      "Dubai: anomaly not found, interval from 10.88 to 30.17, temp 22.96\n",
      "Los Angeles: anomaly not found, interval from 4.62 to 25.22, temp 16.61\n",
      "Singapore: anomaly not found, interval from 17.00 to 36.98, temp 26.81\n",
      "Mumbai: anomaly not found, interval from 14.58 to 35.28, temp 24.99\n",
      "Cairo: anomaly not found, interval from 4.64 to 25.11, temp 16.42\n",
      "Mexico City: anomaly found, interval from 2.26 to 21.80, temp 23.86\n",
      "Performance time: 1.31 seconds\n"
     ]
    }
   ],
   "source": [
    "main()"
   ]
  },
  {
   "cell_type": "code",
   "execution_count": 118,
   "metadata": {
    "colab": {
     "base_uri": "https://localhost:8080/"
    },
    "id": "vUP6FusM0IT7",
    "outputId": "61cd3fd3-8c65-4119-df8d-fde9e30c96c4"
   },
   "outputs": [
    {
     "name": "stdout",
     "output_type": "stream",
     "text": [
      "New York: anomaly not found, interval from -9.88 to 10.04, temp 0.50\n",
      "London: anomaly not found, interval from -5.00 to 15.04, temp 3.93\n",
      "Paris: anomaly not found, interval from -5.63 to 13.81, temp 1.01\n",
      "Tokyo: anomaly not found, interval from -3.95 to 15.73, temp 5.08\n",
      "Moscow: anomaly not found, interval from -20.19 to 0.11, temp -9.00\n",
      "Sydney: anomaly found, interval from 2.48 to 21.66, temp 22.06\n",
      "Berlin: anomaly not found, interval from -10.29 to 10.12, temp 1.25\n",
      "Beijing: anomaly not found, interval from -12.05 to 7.94, temp -5.06\n",
      "Rio de Janeiro: anomaly not found, interval from 9.27 to 30.40, temp 25.65\n",
      "Dubai: anomaly not found, interval from 10.88 to 30.17, temp 23.96\n",
      "Los Angeles: anomaly not found, interval from 4.62 to 25.22, temp 16.91\n",
      "Singapore: anomaly not found, interval from 17.00 to 36.98, temp 26.81\n",
      "Mumbai: anomaly not found, interval from 14.58 to 35.28, temp 24.99\n",
      "Cairo: anomaly not found, interval from 4.64 to 25.11, temp 16.42\n",
      "Mexico City: anomaly found, interval from 2.26 to 21.80, temp 23.86\n",
      "Performance time: 0.19 seconds\n"
     ]
    }
   ],
   "source": [
    "async def get_season():\n",
    "  current_month = datetime.now().month\n",
    "\n",
    "  seasons = {\n",
    "      (12, 1, 2): 'winter',\n",
    "      (3, 4, 5): 'spring',\n",
    "      (6, 7, 8): 'summer',\n",
    "      (9, 10, 11): 'autumn'\n",
    "  }\n",
    "\n",
    "  return [s for months, s in seasons.items() if current_month in months][0]\n",
    "\n",
    "async def get_weather(session, city):\n",
    "    async with session.get(f'https://api.openweathermap.org/data/2.5/weather?q={city}&appid={key}&units=metric&lang=ru') as response:\n",
    "        return await response.json()\n",
    "\n",
    "async def is_anomaly(city):\n",
    "    season = await get_season()\n",
    "    left_interval = df_interval.where((df_interval['season'] == season) & (df_interval['city'] == city)).dropna()['left_interval'].iloc[0]\n",
    "    right_interval = df_interval.where((df_interval['season'] == season) & (df_interval['city'] == city)).dropna()['right_interval'].iloc[0]\n",
    "\n",
    "    async with aiohttp.ClientSession() as session:\n",
    "        response = await get_weather(session, city)\n",
    "        temperature = response['main']['temp']\n",
    "\n",
    "    return (temperature <= left_interval or temperature >= right_interval, left_interval, right_interval, temperature)\n",
    "\n",
    "\n",
    "async def main():\n",
    "    start = time.time()\n",
    "    tasks = []\n",
    "\n",
    "    for city in df['city'].unique():\n",
    "        tasks.append(is_anomaly(city))\n",
    "\n",
    "    results = await asyncio.gather(*tasks)\n",
    "\n",
    "    for city, anomaly in zip(df['city'].unique(), results):\n",
    "        text = 'found' if anomaly[0] else 'not found'\n",
    "        print(f'{city}: anomaly {text}, interval from {anomaly[1]:.2f} to {anomaly[2]:.2f}, temp {anomaly[3]:.2f}')\n",
    "\n",
    "    end = time.time()\n",
    "    performance_time = end - start\n",
    "    print(f'Performance time: {performance_time:.2f} seconds')\n",
    "\n",
    "if __name__ == '__main__':\n",
    "    await main()\n"
   ]
  },
  {
   "cell_type": "markdown",
   "metadata": {
    "id": "8p8t_0Dj2Kr7"
   },
   "source": [
    "При асинхронном выполнении кода время выполнения значительно меньше по сравнению с синхронным выполнением<br>\n",
    "Применение асинхронности ускоряет выполнение IO операций"
   ]
  }
 ],
 "metadata": {
  "colab": {
   "provenance": []
  },
  "kernelspec": {
   "display_name": "ml_env_3_10",
   "language": "python",
   "name": "ml_env_3_10"
  },
  "language_info": {
   "codemirror_mode": {
    "name": "ipython",
    "version": 3
   },
   "file_extension": ".py",
   "mimetype": "text/x-python",
   "name": "python",
   "nbconvert_exporter": "python",
   "pygments_lexer": "ipython3",
   "version": "3.9.6"
  }
 },
 "nbformat": 4,
 "nbformat_minor": 4
}
